{
 "cells": [
  {
   "cell_type": "code",
   "execution_count": null,
   "id": "e4993469-01a8-46c0-bfdd-d8f7981dfddc",
   "metadata": {},
   "outputs": [],
   "source": [
    "import torch\n",
    "from transformers import AutoTokenizer, AutoModelForCausalLM\n",
    "from peft import LoraConfig, get_peft_model\n",
    "from peft import prepare_model_for_int8_training\n",
    "import bitsandbytes as bnb\n",
    "\n",
    "model = AutoModelForCausalLM.from_pretrained(\n",
    "    \"NYTK/PULI-GPT-3SX\",\n",
    "    load_in_8bit=True,\n",
    "    device_map=\"auto\",\n",
    ")\n",
    "\n",
    "model = prepare_model_for_int8_training(model)\n",
    "config = LoraConfig(\n",
    "    r=8, lora_alpha=16, target_modules=[\"query\", \"value\"], lora_dropout=0.05, bias=\"none\", task_type=\"CAUSAL_LM\"\n",
    ")\n",
    "\n",
    "model = get_peft_model(model, config)\n",
    "\n",
    "tokenizer = AutoTokenizer.from_pretrained(\"NYTK/PULI-GPT-3SX\")\n",
    "tokenizer.add_special_tokens({'pad_token': '[PAD]'})"
   ]
  },
  {
   "cell_type": "code",
   "execution_count": null,
   "id": "4cd940aa-7d07-4c57-9cb2-08ee8e73acdd",
   "metadata": {},
   "outputs": [],
   "source": [
    "from datasets import load_from_disk\n",
    "from datasets import load_dataset\n",
    "\n",
    "dataset = load_dataset(\"csv\", data_files=\"datasetv2.csv\")\n",
    "dataset"
   ]
  },
  {
   "cell_type": "code",
   "execution_count": null,
   "id": "7fdb1e6e-f7f8-4c3a-b293-34d47f505383",
   "metadata": {},
   "outputs": [],
   "source": [
    "def fill_none(data):\n",
    "    for field in ['input', 'instruction', 'output']:\n",
    "        if data[field] is None:\n",
    "            data[field] = ''\n",
    "    return data\n",
    "#dataset = dataset.map(fill_none)"
   ]
  },
  {
   "cell_type": "code",
   "execution_count": null,
   "id": "08283c91-0876-4f7d-85eb-edcad4ac4864",
   "metadata": {},
   "outputs": [],
   "source": [
    "dataset['train'][0]"
   ]
  },
  {
   "cell_type": "code",
   "execution_count": null,
   "id": "b7948e39-edaf-4ebd-bcf8-65cb91a1e1e8",
   "metadata": {},
   "outputs": [],
   "source": [
    "prompt = 'Alább található egy instrukció, ami egy feladatot ír le, valamint egy bemenet, ami további kontextust ad. Írj egy illő választ, ami helyesen teljesíti a kérést!\\n\\n'\n",
    "prompt_no_input = 'Alább található egy instrukció, ami egy feladatot ír le. Írj egy illő választ, ami helyesen teljesíti a kérést!\\n\\n'\n",
    "dataset = dataset.map(lambda data: {'text': (prompt if data['input'] is not None else prompt_no_input)+'### Instrukció:\\n' + data['instruction'].strip() + ('\\n\\n### Bemenet:\\n'+data['input'].strip() if data['input'] is not None else '') + '\\n\\n### Válasz:\\n'+data['output'].strip()+'<|endoftext|>'}, remove_columns=['input', 'instruction', 'output'])"
   ]
  },
  {
   "cell_type": "code",
   "execution_count": null,
   "id": "48b7035d-008f-4c33-b154-7dc0489c8182",
   "metadata": {},
   "outputs": [],
   "source": [
    "print(dataset['train'][1]['text'])"
   ]
  },
  {
   "cell_type": "code",
   "execution_count": null,
   "id": "8dc024d7-e79c-4fc8-a8f9-a856a1a767a3",
   "metadata": {},
   "outputs": [],
   "source": [
    "dataset['train'][69]"
   ]
  },
  {
   "cell_type": "code",
   "execution_count": null,
   "id": "55d53fe5-baf6-4cfb-8d33-8af07eaa0007",
   "metadata": {},
   "outputs": [],
   "source": [
    "dataset = dataset.map(lambda data: tokenizer(data['text']), batched=False)"
   ]
  },
  {
   "cell_type": "code",
   "execution_count": null,
   "id": "87a23b46-708c-42a2-92a9-e5fcce1bd521",
   "metadata": {},
   "outputs": [],
   "source": [
    "dataset"
   ]
  },
  {
   "cell_type": "code",
   "execution_count": null,
   "id": "be4254bc-8c38-49e0-8a32-b8c2cbc6df97",
   "metadata": {},
   "outputs": [],
   "source": [
    "dataset = dataset.filter(lambda data: len(data['input_ids']) <= 2048)"
   ]
  },
  {
   "cell_type": "code",
   "execution_count": null,
   "id": "aa8cb82b-aff6-4a9d-b750-703e9c3861ab",
   "metadata": {},
   "outputs": [],
   "source": [
    "import transformers\n",
    "from transformers import Trainer\n",
    "\n",
    "trainer = Trainer(\n",
    "    model=model,\n",
    "    train_dataset=dataset['train'],\n",
    "    args=transformers.TrainingArguments(\n",
    "        per_device_train_batch_size=1,\n",
    "        num_train_epochs=3,\n",
    "        gradient_accumulation_steps=16,\n",
    "        warmup_steps=50,\n",
    "        learning_rate=3e-4,\n",
    "        fp16=True,\n",
    "        weight_decay=0.0,\n",
    "        logging_steps=1,\n",
    "        output_dir=\"outputs\",\n",
    "        save_total_limit=1,\n",
    "    ),\n",
    "    data_collator=transformers.DataCollatorForLanguageModeling(tokenizer, mlm=False),\n",
    ")\n",
    "\n",
    "model.config.use_cache = False\n",
    "trainer.train()"
   ]
  },
  {
   "cell_type": "code",
   "execution_count": null,
   "id": "11aa036c-aec8-4b11-a481-d139a7a39c3d",
   "metadata": {},
   "outputs": [],
   "source": [
    "model.save_pretrained(\"./szurkemarha-6.5k\")"
   ]
  }
 ],
 "metadata": {
  "kernelspec": {
   "display_name": "ipykernel",
   "language": "python",
   "name": "ipykernel"
  },
  "language_info": {
   "codemirror_mode": {
    "name": "ipython",
    "version": 3
   },
   "file_extension": ".py",
   "mimetype": "text/x-python",
   "name": "python",
   "nbconvert_exporter": "python",
   "pygments_lexer": "ipython3",
   "version": "3.10.10"
  }
 },
 "nbformat": 4,
 "nbformat_minor": 5
}
